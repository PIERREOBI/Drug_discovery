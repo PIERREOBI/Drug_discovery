{
  "nbformat": 4,
  "nbformat_minor": 0,
  "metadata": {
    "colab": {
      "name": "xgb-boost_regression.ipynb",
      "provenance": [],
      "collapsed_sections": []
    },
    "kernelspec": {
      "name": "python3",
      "display_name": "Python 3"
    },
    "accelerator": "GPU"
  },
  "cells": [
    {
      "cell_type": "markdown",
      "metadata": {
        "id": "LeamvpPVXuS_"
      },
      "source": [
        "# Install RDKit and molvs"
      ]
    },
    {
      "cell_type": "code",
      "metadata": {
        "id": "39FRBEjoaLb1"
      },
      "source": [
        "!wget -c https://repo.continuum.io/miniconda/Miniconda3-latest-Linux-x86_64.sh\n",
        "!chmod +x Miniconda3-latest-Linux-x86_64.sh\n",
        "!time bash ./Miniconda3-latest-Linux-x86_64.sh -b -f -p /usr/local\n",
        "!conda config --set always_yes yes --set changeps1 no\n",
        "!conda install -q -y -c conda-forge python=3.7\n",
        "!conda install -q -y -c conda-forge rdkit==2020.09.2 "
      ],
      "execution_count": null,
      "outputs": []
    },
    {
      "cell_type": "code",
      "metadata": {
        "id": "tqtOhGA4h6Yd"
      },
      "source": [
        "!chmod +x Miniconda3-py37_4.8.3-Linux-x86_64.sh\n",
        "!time bash ./Miniconda3-py37_4.8.3-Linux-x86_64.sh -b -f -p /usr/local\n",
        "!time conda install -q -y -c conda-forge rdkit\n",
        "\n",
        "import sys\n",
        "sys.path.append('/usr/local/lib/python3.7/site-packages/')"
      ],
      "execution_count": null,
      "outputs": []
    },
    {
      "cell_type": "code",
      "metadata": {
        "id": "3o3Qd8Phkrme"
      },
      "source": [
        "pip install molvs"
      ],
      "execution_count": null,
      "outputs": []
    },
    {
      "cell_type": "markdown",
      "metadata": {
        "id": "O2wvZ7SKXzVC"
      },
      "source": [
        "## Importing the libraries"
      ]
    },
    {
      "cell_type": "code",
      "metadata": {
        "id": "PVmESEFZX4Ig"
      },
      "source": [
        "import rdkit\n",
        "from rdkit import Chem\n",
        "from rdkit.Chem import Descriptors \n",
        "from rdkit.ML.Descriptors import MoleculeDescriptors\n",
        "from molvs import standardize_smiles\n",
        "import pandas as pd\n",
        "import numpy as np\n",
        "import matplotlib.pyplot as plt\n"
      ],
      "execution_count": null,
      "outputs": []
    },
    {
      "cell_type": "markdown",
      "metadata": {
        "id": "I8eE3drZNtuz"
      },
      "source": [
        "# Implement RDKit 2D descriptors calculator"
      ]
    },
    {
      "cell_type": "code",
      "metadata": {
        "id": "DffF3oLdfua3"
      },
      "source": [
        "class RDKit_2D:\n",
        "    def __init__(self, smiles):\n",
        "        self.mols = [Chem.MolFromSmiles(i) for i in smiles]\n",
        "        self.smiles = smiles\n",
        "        \n",
        "    def compute_2Drdkit(self, name):\n",
        "        rdkit_2d_desc = []\n",
        "        calc = MoleculeDescriptors.MolecularDescriptorCalculator([x[0] for x in Descriptors._descList])\n",
        "        header = calc.GetDescriptorNames()\n",
        "        for i in range(len(self.mols)):\n",
        "            ds = calc.CalcDescriptors(self.mols[i])\n",
        "            rdkit_2d_desc.append(ds)\n",
        "        df = pd.DataFrame(rdkit_2d_desc,columns=header)\n",
        "        df.insert(loc=0, column='smiles', value=self.smiles)\n",
        "        df.to_csv(name[:-4]+'_RDKit_2D.csv', index=False)\n",
        "        "
      ],
      "execution_count": null,
      "outputs": []
    },
    {
      "cell_type": "markdown",
      "metadata": {
        "id": "1QM9uBz3N9S6"
      },
      "source": [
        "# Load dataset\n",
        "Dataset is the logP dataset from OpenChem"
      ]
    },
    {
      "cell_type": "code",
      "metadata": {
        "id": "fhTtlq6tiEAq"
      },
      "source": [
        "df1 = pd.read_csv('logP_labels.csv')\n"
      ],
      "execution_count": null,
      "outputs": []
    },
    {
      "cell_type": "markdown",
      "metadata": {
        "id": "hohFuoh1OT_W"
      },
      "source": [
        "# Calculate 2D descriptors"
      ]
    },
    {
      "cell_type": "code",
      "metadata": {
        "id": "do6ZUdQ0k1xG"
      },
      "source": [
        "def main():\n",
        "    filename = 'logP_labels.csv'  # path to your csv file\n",
        "    df = pd.read_csv(filename)               # read the csv file as pandas data frame\n",
        "    \n",
        "    smiles = [standardize_smiles(i) for i in df['SMILES'].values]  \n",
        "\n",
        "    ## Compute RDKit_2D Fingerprints and export a csv file.\n",
        "    RDKit_descriptor = RDKit_2D(smiles)        # create your RDKit_2D object and provide smiles\n",
        "    RDKit_descriptor.compute_2Drdkit(filename) # compute RDKit_2D and provide the name of your desired output file. you can use the same name as the input file because the RDKit_2D class will ensure to add \"_RDKit_2D.csv\" as part of the output file.\n"
      ],
      "execution_count": null,
      "outputs": []
    },
    {
      "cell_type": "code",
      "metadata": {
        "id": "AgfmPb3KlH5J"
      },
      "source": [
        "if __name__ == '__main__':\n",
        "    main()"
      ],
      "execution_count": null,
      "outputs": []
    },
    {
      "cell_type": "markdown",
      "metadata": {
        "id": "hcfVxl_QOrgu"
      },
      "source": [
        "# Load calculated dataset and calculated descriptors"
      ]
    },
    {
      "cell_type": "code",
      "metadata": {
        "id": "_88yaX8txc3u"
      },
      "source": [
        "dataset= pd.read_csv('logP_labels_RDKit_2D.csv')"
      ],
      "execution_count": 3,
      "outputs": []
    },
    {
      "cell_type": "code",
      "metadata": {
        "id": "8h8hGLKR91H5"
      },
      "source": [
        "df1 = pd.read_csv('logP_labels.csv')"
      ],
      "execution_count": 4,
      "outputs": []
    },
    {
      "cell_type": "code",
      "metadata": {
        "id": "TaFv2R4xyemc"
      },
      "source": [
        "dataset['exp_logP'] = df1['Kow']"
      ],
      "execution_count": 5,
      "outputs": []
    },
    {
      "cell_type": "code",
      "metadata": {
        "id": "adBE4tjQX_Bh"
      },
      "source": [
        "X = dataset.iloc[:, 1:-1].values\n",
        "\n",
        "y = dataset.iloc[:, -1].values"
      ],
      "execution_count": 6,
      "outputs": []
    },
    {
      "cell_type": "code",
      "metadata": {
        "id": "ExkwS-UQiofG"
      },
      "source": [
        "print (X)"
      ],
      "execution_count": null,
      "outputs": []
    },
    {
      "cell_type": "code",
      "metadata": {
        "id": "JMHddb9AiosQ"
      },
      "source": [
        "print(y)"
      ],
      "execution_count": null,
      "outputs": []
    },
    {
      "cell_type": "markdown",
      "metadata": {
        "id": "ptNjcy7bOBlD"
      },
      "source": [
        "## Splitting the dataset into the Training set and Test set"
      ]
    },
    {
      "cell_type": "code",
      "metadata": {
        "id": "C7NdofoCOFQF"
      },
      "source": [
        "from sklearn.model_selection import train_test_split\n",
        "X_train, X_test, y_train, y_test = train_test_split(X, y, test_size = 0.2, random_state = 0)"
      ],
      "execution_count": 9,
      "outputs": []
    },
    {
      "cell_type": "markdown",
      "metadata": {
        "id": "v4S2fyIBYDcu"
      },
      "source": [
        "## Training the XGBoost Regression model on the whole dataset"
      ]
    },
    {
      "cell_type": "code",
      "metadata": {
        "id": "o8dOCoJ1YKMc",
        "colab": {
          "base_uri": "https://localhost:8080/"
        },
        "outputId": "99b21e1d-9684-4d33-facf-b978d4e9df04"
      },
      "source": [
        "from xgboost import XGBRegressor\n",
        "regressor = XGBRegressor()\n",
        "regressor.fit(X_train, y_train)"
      ],
      "execution_count": null,
      "outputs": [
        {
          "output_type": "stream",
          "name": "stdout",
          "text": [
            "[19:35:23] WARNING: /workspace/src/objective/regression_obj.cu:152: reg:linear is now deprecated in favor of reg:squarederror.\n"
          ]
        },
        {
          "output_type": "execute_result",
          "data": {
            "text/plain": [
              "XGBRegressor(base_score=0.5, booster='gbtree', colsample_bylevel=1,\n",
              "             colsample_bynode=1, colsample_bytree=1, gamma=0,\n",
              "             importance_type='gain', learning_rate=0.1, max_delta_step=0,\n",
              "             max_depth=3, min_child_weight=1, missing=None, n_estimators=100,\n",
              "             n_jobs=1, nthread=None, objective='reg:linear', random_state=0,\n",
              "             reg_alpha=0, reg_lambda=1, scale_pos_weight=1, seed=None,\n",
              "             silent=None, subsample=1, verbosity=1)"
            ]
          },
          "metadata": {},
          "execution_count": 51
        }
      ]
    },
    {
      "cell_type": "markdown",
      "metadata": {
        "id": "DM_jh0frOPKE"
      },
      "source": [
        "## Predicting the Test set results"
      ]
    },
    {
      "cell_type": "code",
      "metadata": {
        "id": "JGa9ZfM4OTNw",
        "colab": {
          "base_uri": "https://localhost:8080/"
        },
        "outputId": "d99ee6d2-76d0-4328-c7d8-d39da904f442"
      },
      "source": [
        "y_pred = regressor.predict(X_test)\n",
        "np.set_printoptions(precision=2)\n",
        "print(np.concatenate((y_pred.reshape(len(y_pred),1), y_test.reshape(len(y_test),1)),1))"
      ],
      "execution_count": null,
      "outputs": [
        {
          "output_type": "stream",
          "name": "stdout",
          "text": [
            "[[ 2.79  3.49]\n",
            " [-0.64 -0.89]\n",
            " [-0.19 -0.59]\n",
            " ...\n",
            " [ 2.67  2.35]\n",
            " [ 0.26  0.88]\n",
            " [ 1.    1.23]]\n"
          ]
        }
      ]
    },
    {
      "cell_type": "markdown",
      "metadata": {
        "id": "Cd8VZM5POWXN"
      },
      "source": [
        "## Evaluating the Model Performance"
      ]
    },
    {
      "cell_type": "code",
      "metadata": {
        "id": "a7y1rXlfOZJo",
        "colab": {
          "base_uri": "https://localhost:8080/"
        },
        "outputId": "1382c079-c543-4290-cdda-08a7aaf6abf9"
      },
      "source": [
        "from sklearn.metrics import r2_score\n",
        "r2_score(y_test, y_pred)"
      ],
      "execution_count": null,
      "outputs": [
        {
          "output_type": "execute_result",
          "data": {
            "text/plain": [
              "0.8734809271921917"
            ]
          },
          "metadata": {},
          "execution_count": 53
        }
      ]
    },
    {
      "cell_type": "code",
      "metadata": {
        "colab": {
          "base_uri": "https://localhost:8080/"
        },
        "id": "MrQOBQDJzsNK",
        "outputId": "592c3bfe-de6d-4890-c85b-d0dbf803e605"
      },
      "source": [
        "from sklearn.metrics import mean_squared_error\n",
        "mean_squared_error(y_test, y_pred)"
      ],
      "execution_count": null,
      "outputs": [
        {
          "output_type": "execute_result",
          "data": {
            "text/plain": [
              "0.4293477630849853"
            ]
          },
          "metadata": {},
          "execution_count": 54
        }
      ]
    }
  ]
}
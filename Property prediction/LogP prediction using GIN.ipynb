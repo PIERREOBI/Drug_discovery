{
  "nbformat": 4,
  "nbformat_minor": 0,
  "metadata": {
    "colab": {
      "name": "GIN-logP.ipynb",
      "provenance": []
    },
    "kernelspec": {
      "display_name": "Python 3",
      "name": "python3"
    },
    "language_info": {
      "name": "python"
    }
  },
  "cells": [
    {
      "cell_type": "markdown",
      "metadata": {
        "id": "SM_GD3gwHyCU"
      },
      "source": [
        "**Log P prediction using Graph Isomorphism Network (GIN)** \n",
        "\n",
        "Utilizing GIN from the Torchdrug package for property prediction\n"
      ]
    },
    {
      "cell_type": "markdown",
      "metadata": {
        "id": "VktRrBOdMHms"
      },
      "source": [
        "Install torchdrug"
      ]
    },
    {
      "cell_type": "code",
      "metadata": {
        "id": "9Nt2O4X-QXxZ"
      },
      "source": [
        "pip install torchdrug"
      ],
      "execution_count": null,
      "outputs": []
    },
    {
      "cell_type": "markdown",
      "metadata": {
        "id": "AChbFNLEL47Y"
      },
      "source": [
        "Import relevant libraries"
      ]
    },
    {
      "cell_type": "code",
      "metadata": {
        "id": "Ag7iTlY45bPu"
      },
      "source": [
        "import torch\n",
        "from torchdrug import data, datasets\n",
        "from torchdrug import core, models, tasks, utils"
      ],
      "execution_count": null,
      "outputs": []
    },
    {
      "cell_type": "markdown",
      "metadata": {
        "id": "vn7eoLqoL0Vq"
      },
      "source": [
        "Load dataset"
      ]
    },
    {
      "cell_type": "code",
      "metadata": {
        "id": "_FWE6L4J8JNu"
      },
      "source": [
        "dataset = datasets.Lipophilicity(\"~/molecule-datasets/\")\n",
        "lengths = [int(0.8 * len(dataset)), int(0.1 * len(dataset))]\n",
        "lengths += [len(dataset) - sum(lengths)]\n",
        "train_set, valid_set, test_set = torch.utils.data.random_split(dataset, lengths)"
      ],
      "execution_count": null,
      "outputs": []
    },
    {
      "cell_type": "markdown",
      "metadata": {
        "id": "MRgNzgEiMAUw"
      },
      "source": [
        "Visualize some of the data\n"
      ]
    },
    {
      "cell_type": "code",
      "metadata": {
        "id": "VKz1tiDt9Fhj"
      },
      "source": [
        "graphs = []\n",
        "labels = []\n",
        "for i in range(10):\n",
        "    sample = dataset[i]\n",
        "    graphs.append(sample.pop(\"graph\"))\n",
        "    label = [\"%s: %d\" % (k, v) for k, v in sample.items()]\n",
        "    label = \", \".join(label)\n",
        "    labels.append(label)\n",
        "graph = data.Molecule.pack(graphs)\n",
        "graph.visualize(labels, num_row=1)"
      ],
      "execution_count": null,
      "outputs": []
    },
    {
      "cell_type": "markdown",
      "metadata": {
        "id": "G0sXtyVzMM8Z"
      },
      "source": [
        "Tried implementing the root mean squared error"
      ]
    },
    {
      "cell_type": "code",
      "metadata": {
        "id": "TueACf9wGyWU"
      },
      "source": [
        "class RMSELoss(torch.nn.Module):\n",
        "    def __init__(self):\n",
        "        super(RMSELoss,self).__init__()\n",
        "\n",
        "    def forward(self,x,y):\n",
        "        criterion = nn.MSELoss()\n",
        "        eps = 1e-6\n",
        "        loss = torch.sqrt(criterion(x, y) + eps)\n",
        "        return loss"
      ],
      "execution_count": null,
      "outputs": []
    },
    {
      "cell_type": "markdown",
      "metadata": {
        "id": "LpAsqG73MUJW"
      },
      "source": [
        "Specify model parameters"
      ]
    },
    {
      "cell_type": "code",
      "metadata": {
        "id": "ApAfuvcO9KQq"
      },
      "source": [
        "model = models.GIN(input_dim=dataset.node_feature_dim,\n",
        "                   hidden_dims=[256, 256, 256, 256],\n",
        "                   short_cut=True, batch_norm=True, concat_hidden=True)\n",
        "task = tasks.PropertyPrediction(model, task=dataset.tasks,\n",
        "                                criterion=\"mse\", metric=( \"mae\", \"rmse\"))"
      ],
      "execution_count": null,
      "outputs": []
    },
    {
      "cell_type": "markdown",
      "metadata": {
        "id": "Rp7vliW8Lmdd"
      },
      "source": [
        "Train model"
      ]
    },
    {
      "cell_type": "code",
      "metadata": {
        "id": "RiOdUIBR9Qda"
      },
      "source": [
        "optimizer = torch.optim.Adam(task.parameters(), lr=1e-3)\n",
        "solver = core.Engine(task, train_set, valid_set, test_set, optimizer,\n",
        "                     gpus=[0], batch_size=1024)\n",
        "solver.train(num_epoch=100)\n",
        "solver.evaluate(\"valid\")"
      ],
      "execution_count": null,
      "outputs": []
    },
    {
      "cell_type": "markdown",
      "metadata": {
        "id": "dYUqeTdOLeO9"
      },
      "source": [
        "Evaluate model on validation set"
      ]
    },
    {
      "cell_type": "code",
      "metadata": {
        "colab": {
          "base_uri": "https://localhost:8080/"
        },
        "id": "Wwyr2k3a9hFh",
        "outputId": "512771dd-8ae3-42d1-ddc2-61ffb3ba76bc"
      },
      "source": [
        "solver.evaluate(\"valid\")"
      ],
      "execution_count": null,
      "outputs": [
        {
          "output_type": "stream",
          "name": "stdout",
          "text": [
            "05:57:49   Evaluate on valid\n",
            "05:57:49   >>>>>>>>>>>>>>>>>>>>>>>>>>>>>>\n",
            "05:57:49   mean absolute error [exp]: 0.764657\n",
            "05:57:49   root mean squared error [exp]: 0.971925\n"
          ]
        },
        {
          "output_type": "execute_result",
          "data": {
            "text/plain": [
              "{'mean absolute error [exp]': tensor(0.7647, device='cuda:0'),\n",
              " 'root mean squared error [exp]': tensor(0.9719, device='cuda:0')}"
            ]
          },
          "metadata": {},
          "execution_count": 28
        }
      ]
    },
    {
      "cell_type": "markdown",
      "metadata": {
        "id": "AWvw-ZWaLUR-"
      },
      "source": [
        "Evaluate model on test set"
      ]
    },
    {
      "cell_type": "code",
      "metadata": {
        "colab": {
          "base_uri": "https://localhost:8080/"
        },
        "id": "V2U4KfbJZ7ep",
        "outputId": "8f87bcd2-dea5-46dd-fbb9-709345bf8db5"
      },
      "source": [
        "solver.evaluate(\"test\")"
      ],
      "execution_count": null,
      "outputs": [
        {
          "output_type": "stream",
          "name": "stdout",
          "text": [
            "06:11:18   Evaluate on test\n",
            "06:11:18   >>>>>>>>>>>>>>>>>>>>>>>>>>>>>>\n",
            "06:11:18   mean absolute error [exp]: 0.834587\n",
            "06:11:18   root mean squared error [exp]: 1.04739\n"
          ]
        },
        {
          "output_type": "execute_result",
          "data": {
            "text/plain": [
              "{'mean absolute error [exp]': tensor(0.8346, device='cuda:0'),\n",
              " 'root mean squared error [exp]': tensor(1.0474, device='cuda:0')}"
            ]
          },
          "metadata": {},
          "execution_count": 33
        }
      ]
    }
  ]
}
